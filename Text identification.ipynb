{
 "cells": [
  {
   "cell_type": "code",
   "execution_count": 2,
   "id": "0e7864bb",
   "metadata": {},
   "outputs": [],
   "source": [
    "from imutils.object_detection import non_max_suppression\n",
    "import numpy as np\n",
    "import cv2\n",
    "import matplotlib.pyplot as plt\n",
    "import pytesseract"
   ]
  },
  {
   "cell_type": "code",
   "execution_count": 32,
   "id": "cef5a241",
   "metadata": {},
   "outputs": [],
   "source": [
    "args={\n",
    "      \"image\" : \"Photos\\image2.jpg\",\n",
    "      \"east\" : \"frozen_east_text_detection.pb\",\n",
    "      \"confidence\" : 0.5,\n",
    "      \"width\" : 320,\n",
    "      \"height\" : 320,\n",
    "      \"padding\" :0.0,\n",
    "     }\n",
    "pytesseract.pytesseract.tesseract_cmd = 'C:/Users/rishu/AppData/Local/Programs/Tesseract-OCR/tesseract.exe'"
   ]
  },
  {
   "cell_type": "code",
   "execution_count": 33,
   "id": "fe1e6c28",
   "metadata": {},
   "outputs": [
    {
     "name": "stdout",
     "output_type": "stream",
     "text": [
      "level\tpage_num\tblock_num\tpar_num\tline_num\tword_num\tleft\ttop\twidth\theight\tconf\ttext\n",
      "1\t1\t0\t0\t0\t0\t0\t0\t779\t422\t-1\t\n",
      "2\t1\t1\t0\t0\t0\t160\t149\t454\t74\t-1\t\n",
      "3\t1\t1\t1\t0\t0\t160\t149\t454\t74\t-1\t\n",
      "4\t1\t1\t1\t1\t0\t160\t149\t454\t25\t-1\t\n",
      "5\t1\t1\t1\t1\t1\t160\t149\t242\t25\t91.524475\tINFORMATION\n",
      "5\t1\t1\t1\t1\t2\t435\t149\t179\t25\t91.524475\tRETRIEVAL\n",
      "4\t1\t1\t1\t2\t0\t160\t198\t142\t25\t-1\t\n",
      "5\t1\t1\t1\t2\t1\t160\t198\t142\t25\t96.238647\tPROJECT\n",
      "\n"
     ]
    }
   ],
   "source": [
    "image = cv2.imread(args[\"image\"])\n",
    "img_box = pytesseract.image_to_data(image)\n",
    "print(img_box)"
   ]
  },
  {
   "cell_type": "code",
   "execution_count": 34,
   "id": "ad2424d6",
   "metadata": {},
   "outputs": [
    {
     "data": {
      "text/plain": [
       "-1"
      ]
     },
     "execution_count": 34,
     "metadata": {},
     "output_type": "execute_result"
    }
   ],
   "source": [
    "orig = image.copy()\n",
    "(origH, origW) = image.shape[:2]\n",
    "\n",
    "(newW, newH) = (args[\"width\"], args[\"height\"])\n",
    "rW = origW / float(newW)\n",
    "rH = origH / float(newH)\n",
    "\n",
    "image = cv2.resize(image, (newW, newH))\n",
    "(H, W) = image.shape[:2]\n",
    "\n",
    "layerNames = [\"feature_fusion/Conv_7/Sigmoid\",\n",
    "              \"feature_fusion/concat_3\"]\n",
    "\n",
    "net = cv2.dnn.readNet(args[\"east\"])\n",
    "\n",
    "blob = cv2.dnn.blobFromImage(image, 1.0, (W, H),\n",
    "    (123.68, 116.78, 103.94), swapRB=True, crop=False)\n",
    "\n",
    "net.setInput(blob)\n",
    "(scores, geometry) = net.forward(layerNames)\n",
    "\n",
    "(numRows, numCols) = scores.shape[2:4]\n",
    "rects = []\n",
    "confidences = []\n",
    "\n",
    "for y in range(0, numRows):\n",
    "\n",
    "    scoresData = scores[0, 0, y]\n",
    "    xData0 = geometry[0, 0, y]\n",
    "    xData1 = geometry[0, 1, y]\n",
    "    xData2 = geometry[0, 2, y]\n",
    "    xData3 = geometry[0, 3, y]\n",
    "    anglesData = geometry[0, 4, y]\n",
    "    \n",
    "    for x in range(0, numCols):\n",
    "\n",
    "        if scoresData[x] < args[\"confidence\"]:\n",
    "            continue\n",
    "\n",
    "        (offsetX, offsetY) = (4*x, 4*y)\n",
    "        angle = anglesData[x]\n",
    "        cos = np.cos(angle)\n",
    "        sin = np.sin(angle)\n",
    "        h = xData0[x] + xData2[x]\n",
    "        w = xData1[x] + xData3[x]\n",
    "        endX = int(offsetX + (cos * xData1[x]) + (sin * xData2[x]))\n",
    "        endY = int(offsetY - (sin * xData1[x]) + (cos * xData2[x]))\n",
    "        startX = int(endX - w)\n",
    "        startY = int(endY - h)\n",
    "        rects.append((startX, startY, endX, endY))\n",
    "        confidences.append(scoresData[x])\n",
    "        \n",
    "boxes = non_max_suppression(np.array(rects), probs=confidences)\n",
    "results = []\n",
    "\n",
    "for (startX, startY, endX, endY) in boxes:\n",
    "    startX = int(startX * rW)\n",
    "    startY = int(startY * rH)\n",
    "    endX = int(endX * rW)\n",
    "    endY = int(endY * rH)\n",
    "    \n",
    "    dX = int((endX - startX) * args[\"padding\"])\n",
    "    dY = int((endY - startY) * args[\"padding\"])\n",
    "    \n",
    "    startX = max(0, startX - dX)\n",
    "    startY = max(0, startY - dY)\n",
    "    endX = min(origW, endX + (dX * 2))\n",
    "    endY = min(origH, endY + (dY * 2))\n",
    "\n",
    "    r = orig[startY:endY, startX:endX]\n",
    "\n",
    "    configuration = (\"-l eng --oem 1 --psm 7\")\n",
    "    text = pytesseract.image_to_string(r, config=configuration)\n",
    "    \n",
    "    results.append(((startX, startY, endX, endY), text))\n",
    "    \n",
    "orig_image = orig.copy()\n",
    "\n",
    "for ((start_X, start_Y, end_X, end_Y), text) in results:\n",
    "    \n",
    "\n",
    "    text = \"\".join([x if ord(x) < 128 else \"\" for x in text]).strip()\n",
    "    cv2.rectangle(orig_image, (start_X, start_Y), (end_X, end_Y),\n",
    "        (0, 0, 255), 1)\n",
    "    cv2.putText(orig_image, text, (start_X, start_Y),\n",
    "        cv2.FONT_HERSHEY_SIMPLEX, 0.8,(255,0, 0), 2)\n",
    "\n",
    "cv2.imshow(\"Text Detection\", orig_image)\n",
    "cv2.waitKey(0)"
   ]
  },
  {
   "cell_type": "code",
   "execution_count": null,
   "id": "945d720d",
   "metadata": {},
   "outputs": [],
   "source": []
  }
 ],
 "metadata": {
  "kernelspec": {
   "display_name": "Python 3",
   "language": "python",
   "name": "python3"
  },
  "language_info": {
   "codemirror_mode": {
    "name": "ipython",
    "version": 3
   },
   "file_extension": ".py",
   "mimetype": "text/x-python",
   "name": "python",
   "nbconvert_exporter": "python",
   "pygments_lexer": "ipython3",
   "version": "3.8.8"
  }
 },
 "nbformat": 4,
 "nbformat_minor": 5
}
